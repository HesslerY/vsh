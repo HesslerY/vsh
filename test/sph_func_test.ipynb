{
 "cells": [
  {
   "cell_type": "markdown",
   "metadata": {},
   "source": [
    "In this note, I test my codes of calculating the vector spherical harmonics."
   ]
  },
  {
   "cell_type": "code",
   "execution_count": 1,
   "metadata": {},
   "outputs": [],
   "source": [
    "from scipy.special import lpmn, lpmv\n",
    "import numpy as np\n",
    "from numpy import sqrt, pi, sin, cos, exp\n",
    "from math import factorial\n",
    "import sys"
   ]
  },
  {
   "cell_type": "code",
   "execution_count": 2,
   "metadata": {},
   "outputs": [],
   "source": [
    "# Use the scipy module\n",
    "legfunc,  dlegfunc = lpmn(2, 5, 0.5)"
   ]
  },
  {
   "cell_type": "code",
   "execution_count": 3,
   "metadata": {},
   "outputs": [],
   "source": [
    "def legendre_func(l, m, x):\n",
    "    \"\"\"Calculate the Associated Legendre function at x.\n",
    "    \n",
    "    Please note that here 'l' and 'm' correspond to 'm' and 'n' in the scipy.special.legendre.\n",
    "    \"\"\"\n",
    "    \n",
    "    if x > 1:\n",
    "        print(\"For x={:.f}, |x| > 1, which is not supported.\".format(x))\n",
    "        sys.exit()\n",
    "        \n",
    "    if l < m:\n",
    "        print(\"Illegal inpput: l={:d} < m={:d}\".format(l, m))\n",
    "        sys.exit()\n",
    "    \n",
    "    if m == l:\n",
    "        \n",
    "        if m:\n",
    "            return (2*m -1) * sqrt(1-x**2) * legendre_func(m-1, m-1, x)\n",
    "        else:\n",
    "            return 1\n",
    "    \n",
    "    elif l - m == 1:\n",
    "        return (2 * m + 1) * x * legendre_func(m, m, x)\n",
    "    \n",
    "    else:\n",
    "        return ((2*l-1)*x*legendre_func(l-1, m, x) - (l-1+m)*legendre_func(l-2, m, x)) / (l-m)"
   ]
  },
  {
   "cell_type": "code",
   "execution_count": 4,
   "metadata": {},
   "outputs": [
    {
     "name": "stdout",
     "output_type": "stream",
     "text": [
      "Comparison of results\n",
      "Scipy           My\n",
      "-4.921874999999999 -4.921875\n"
     ]
    }
   ],
   "source": [
    "print(\"Comparison of results\")\n",
    "print(\"Scipy           My\")\n",
    "print(lpmv(2, 5, 0.5), legendre_func(5, 2, 0.5))"
   ]
  },
  {
   "cell_type": "markdown",
   "metadata": {},
   "source": [
    "My calculation of the Legendre function seems correct :-)"
   ]
  },
  {
   "cell_type": "code",
   "execution_count": 5,
   "metadata": {},
   "outputs": [],
   "source": [
    "def B_coef(l, m, x):\n",
    "    \"\"\"\n",
    "    \"\"\"\n",
    "    \n",
    "    if type(l) is not int:\n",
    "        \n",
    "        print(\"The type of 'l' should be int!\")\n",
    "        sys.exit()\n",
    "        \n",
    "    elif type(m) is not int:\n",
    "        print(\"The type of 'm' should be int!\")\n",
    "        sys.exit()\n",
    "    \n",
    "    if m == 0:\n",
    "        return 0\n",
    "\n",
    "    if l == m:\n",
    "        if m == 1:\n",
    "            return 1\n",
    "        else:\n",
    "            return (2*m - 1) * m / (m - 1) * sqrt(1-x*x) * B_coef(m-1, m-1, x)\n",
    "        \n",
    "    elif l - m == 1:\n",
    "        return (2*m + 1) * x * B_coef(m, m, x)\n",
    "    \n",
    "    else:\n",
    "        return ((2*l-1)*x*B_coef(l-1, m, x) - (l-1+m)*B_coef(l-2, m, x)) / (l-m)"
   ]
  },
  {
   "cell_type": "code",
   "execution_count": 6,
   "metadata": {},
   "outputs": [
    {
     "name": "stdout",
     "output_type": "stream",
     "text": [
      "B:\n",
      "Calculated: -11.366583424670758\n",
      "Predicted:  -11.366583424670758\n"
     ]
    }
   ],
   "source": [
    "l = 5\n",
    "m = 2\n",
    "x = 0.5\n",
    "\n",
    "print(\"B:\")\n",
    "print(\"Calculated:\", B_coef(l, m, x))\n",
    "print(\"Predicted: \", m * legendre_func(l, m, x) / sqrt(1-x*x))"
   ]
  },
  {
   "cell_type": "markdown",
   "metadata": {},
   "source": [
    "The calculation of $B_{l,m}$ seems good, too."
   ]
  },
  {
   "cell_type": "code",
   "execution_count": 7,
   "metadata": {},
   "outputs": [],
   "source": [
    "def A_coef(l, m, x):\n",
    "    \"\"\"\n",
    "    \"\"\"\n",
    "    \n",
    "    if type(l) is not int:\n",
    "        \n",
    "        print(\"The type of 'l' should be int!\")\n",
    "        sys.exit()\n",
    "        \n",
    "    elif type(m) is not int:\n",
    "        print(\"The type of 'm' should be int!\")\n",
    "        sys.exit()\n",
    "    \n",
    "    if m == 0:\n",
    "        return sqrt(1 - x*x) * B_coef(l, 1, x)\n",
    "    else:\n",
    "        return (-x * l * B_coef(l, m, x) + (l+m) * B_coef(l-1, m, x)) / m"
   ]
  },
  {
   "cell_type": "code",
   "execution_count": 8,
   "metadata": {},
   "outputs": [
    {
     "name": "stdout",
     "output_type": "stream",
     "text": [
      "A:\n",
      "Calculated: 48.30797955485072\n",
      "Predicted:  48.307979554850725\n"
     ]
    }
   ],
   "source": [
    "print(\"A:\")\n",
    "print(\"Calculated:\", A_coef(l, m, x))\n",
    "print(\"Predicted: \", dlegfunc[-1,-1] * sqrt(1-x*x))"
   ]
  },
  {
   "cell_type": "markdown",
   "metadata": {},
   "source": [
    "So does $A_{l,m}$."
   ]
  },
  {
   "cell_type": "code",
   "execution_count": 9,
   "metadata": {},
   "outputs": [],
   "source": [
    "def vec_sph_harm_calc(l, m, ra, dec):\n",
    "    \"\"\"\n",
    "    \"\"\"\n",
    "    \n",
    "    fac1 = (2*l+1) / l / (l+1) / (4 * pi) * factorial(l-m) / factorial(l+m)\n",
    "#     fac2 = (-1)**m * sqrt(fac1) * exp(complex(0, m*ra))\n",
    "    fac2 = (-1)**m * sqrt(fac1) * (cos(m*ra)+sin(m*ra)*(0+1j))\n",
    "    \n",
    "    x = sin(dec)\n",
    "    \n",
    "    facA = fac2 * A_coef(l, m, x)\n",
    "    facB = fac2 * B_coef(l, m, x)\n",
    "\n",
    "    t_vec_ra = facA\n",
    "    t_vec_dc = facB * (0-1j)\n",
    "    \n",
    "    s_vec_ra = facB * (0+1j)\n",
    "    s_vec_dc = facA\n",
    "    \n",
    "    \n",
    "    return t_vec_ra, t_vec_dc, s_vec_ra, s_vec_dc"
   ]
  },
  {
   "cell_type": "markdown",
   "metadata": {},
   "source": [
    "Then I compare my results with the spherical harmonics wrapper from scipy.special."
   ]
  },
  {
   "cell_type": "code",
   "execution_count": 10,
   "metadata": {},
   "outputs": [],
   "source": [
    "from scipy.special import sph_harm"
   ]
  },
  {
   "cell_type": "code",
   "execution_count": 11,
   "metadata": {},
   "outputs": [
    {
     "data": {
      "text/plain": [
       "(0.13398342629807677+0.07735536724014297j)"
      ]
     },
     "execution_count": 11,
     "metadata": {},
     "output_type": "execute_result"
    }
   ],
   "source": [
    "ra = pi / 3\n",
    "dec = pi / 4\n",
    "\n",
    "vec_sph_harm_calc(l, m, ra, dec)[1]"
   ]
  },
  {
   "cell_type": "code",
   "execution_count": 12,
   "metadata": {},
   "outputs": [
    {
     "name": "stdout",
     "output_type": "stream",
     "text": [
      "T_{l,m}: (0.1339834262980768+0.07735536724014298j)\n"
     ]
    }
   ],
   "source": [
    "fac = (0-1j) * (-1)**m / sqrt(l * (l+1)) * m / sqrt(1-sin(dec)**2)\n",
    "\n",
    "\n",
    "print(\"T_{l,m}:\", fac * sph_harm(m, l, ra, dec))"
   ]
  },
  {
   "cell_type": "code",
   "execution_count": 13,
   "metadata": {},
   "outputs": [
    {
     "data": {
      "text/plain": [
       "(-0.1497980245304163+0.2594577893601302j)"
      ]
     },
     "execution_count": 13,
     "metadata": {},
     "output_type": "execute_result"
    }
   ],
   "source": [
    "sph_harm(m, l, ra, dec)"
   ]
  },
  {
   "cell_type": "markdown",
   "metadata": {},
   "source": [
    "As it shows, these two results only differ by a factor."
   ]
  }
 ],
 "metadata": {
  "hide_input": false,
  "kernelspec": {
   "display_name": "Python 3",
   "language": "python",
   "name": "python3"
  },
  "language_info": {
   "codemirror_mode": {
    "name": "ipython",
    "version": 3
   },
   "file_extension": ".py",
   "mimetype": "text/x-python",
   "name": "python",
   "nbconvert_exporter": "python",
   "pygments_lexer": "ipython3",
   "version": "3.7.9"
  },
  "latex_envs": {
   "LaTeX_envs_menu_present": true,
   "autoclose": false,
   "autocomplete": true,
   "bibliofile": "biblio.bib",
   "cite_by": "apalike",
   "current_citInitial": 1,
   "eqLabelWithNumbers": true,
   "eqNumInitial": 1,
   "hotkeys": {
    "equation": "Ctrl-E",
    "itemize": "Ctrl-I"
   },
   "labels_anchors": false,
   "latex_user_defs": false,
   "report_style_numbering": false,
   "user_envs_cfg": false
  }
 },
 "nbformat": 4,
 "nbformat_minor": 4
}
